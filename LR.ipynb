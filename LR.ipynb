{
  "nbformat": 4,
  "nbformat_minor": 0,
  "metadata": {
    "colab": {
      "provenance": []
    },
    "kernelspec": {
      "name": "python3",
      "display_name": "Python 3"
    },
    "language_info": {
      "name": "python"
    }
  },
  "cells": [
    {
      "cell_type": "code",
      "execution_count": null,
      "metadata": {
        "id": "otNT8qvN7rUZ"
      },
      "outputs": [],
      "source": [
        "import numpy as np\n",
        "import pandas as pd\n",
        "import matplotlib.pyplot as plt\n",
        "import seaborn as sb"
      ]
    },
    {
      "cell_type": "code",
      "source": [
        "class myLR:\n",
        "\n",
        "  def __init__(self):\n",
        "    self.m = None\n",
        "    self.b = None\n",
        "\n",
        "  def fit(self, X_train, y_train):\n",
        "    x_ = X_train.mean()\n",
        "    y_ = y_train.mean()\n",
        "    num=0\n",
        "    den=0\n",
        "    for i in range(X_train.shape[0]):\n",
        "      num += (X_train[i] - x_)*(y_train[i] - y_)\n",
        "      den += (X_train[i] - x_)**2\n",
        "    self.m = num/den\n",
        "    self.b = y_ - (self.m)*x_\n",
        "    print(self.m)\n",
        "    print(self.b)\n",
        "\n",
        "  def predict(self, X_test):\n",
        "    print(self.m * X_test + self.b)"
      ],
      "metadata": {
        "id": "7Gc39ocj71jh"
      },
      "execution_count": null,
      "outputs": []
    },
    {
      "cell_type": "code",
      "source": [
        "df = pd.read_csv('/content/placement.csv')"
      ],
      "metadata": {
        "id": "GHa_N7i89wOy"
      },
      "execution_count": null,
      "outputs": []
    },
    {
      "cell_type": "code",
      "source": [
        "X = df.iloc[:, 0].values\n",
        "y = df.iloc[:, 1].values"
      ],
      "metadata": {
        "id": "cUo8jwaE-Q3L"
      },
      "execution_count": null,
      "outputs": []
    },
    {
      "cell_type": "code",
      "source": [
        "from sklearn.model_selection import train_test_split\n",
        "X_train, X_test, y_train, y_test = train_test_split(X, y, test_size = 0.2, random_state = 2)"
      ],
      "metadata": {
        "id": "a_dpesjW9QSv"
      },
      "execution_count": null,
      "outputs": []
    },
    {
      "cell_type": "code",
      "source": [
        "lr = myLR()"
      ],
      "metadata": {
        "id": "tojUzPvj9ukx"
      },
      "execution_count": null,
      "outputs": []
    },
    {
      "cell_type": "code",
      "source": [
        "lr.fit(X_train, y_train)"
      ],
      "metadata": {
        "colab": {
          "base_uri": "https://localhost:8080/"
        },
        "id": "tV1PqHSjAdgb",
        "outputId": "ec219a0a-7592-4914-8a1b-a1a9973f6574"
      },
      "execution_count": null,
      "outputs": [
        {
          "output_type": "stream",
          "name": "stdout",
          "text": [
            "0.5579519734250721\n",
            "-0.8961119222429152\n"
          ]
        }
      ]
    },
    {
      "cell_type": "code",
      "source": [
        "lr.predict(10)"
      ],
      "metadata": {
        "colab": {
          "base_uri": "https://localhost:8080/"
        },
        "id": "2qU3VYTCAhIE",
        "outputId": "434b70bc-8f57-4589-be52-a491f11ad748"
      },
      "execution_count": null,
      "outputs": [
        {
          "output_type": "stream",
          "name": "stdout",
          "text": [
            "4.683407812007806\n"
          ]
        }
      ]
    },
    {
      "cell_type": "code",
      "source": [],
      "metadata": {
        "id": "Oe2GXYtEBWNq"
      },
      "execution_count": null,
      "outputs": []
    },
    {
      "cell_type": "code",
      "source": [
        "# left for multiple regresssion"
      ],
      "metadata": {
        "id": "HyVrPs6UKbyn"
      },
      "execution_count": null,
      "outputs": []
    },
    {
      "cell_type": "code",
      "source": [],
      "metadata": {
        "id": "OOdXb0T4Kb2D"
      },
      "execution_count": null,
      "outputs": []
    },
    {
      "cell_type": "code",
      "source": [
        "from sklearn.datasets import make_regression\n",
        "import numpy as np"
      ],
      "metadata": {
        "id": "DajBIfThKiIF"
      },
      "execution_count": null,
      "outputs": []
    },
    {
      "cell_type": "code",
      "source": [
        "X,y = make_regression()"
      ],
      "metadata": {
        "id": "7-4wxcLgKpOj"
      },
      "execution_count": null,
      "outputs": []
    },
    {
      "cell_type": "code",
      "source": [
        "# left this"
      ],
      "metadata": {
        "id": "OwsIhXimK6Nt"
      },
      "execution_count": null,
      "outputs": []
    },
    {
      "cell_type": "code",
      "source": [],
      "metadata": {
        "id": "SARzhItWK8CE"
      },
      "execution_count": null,
      "outputs": []
    },
    {
      "cell_type": "code",
      "source": [
        "from sklearn.datasets import make_regression\n",
        "import matplotlib.pyplot as plt\n",
        "import numpy as np\n",
        "\n",
        "from sklearn.model_selection import cross_val_score"
      ],
      "metadata": {
        "id": "Lcf7wV3dM_a1"
      },
      "execution_count": null,
      "outputs": []
    },
    {
      "cell_type": "code",
      "source": [
        "X,y = make_regression(n_samples = 100, n_features=1,n_informative=1,n_targets=1, noise=20)"
      ],
      "metadata": {
        "id": "6QXq4t6TNTQC"
      },
      "execution_count": null,
      "outputs": []
    },
    {
      "cell_type": "code",
      "source": [
        "plt.scatter(X,y)"
      ],
      "metadata": {
        "colab": {
          "base_uri": "https://localhost:8080/",
          "height": 447
        },
        "id": "ITqgmEOONj_M",
        "outputId": "3c021a15-6a83-45a2-b6a6-d21800533fd0"
      },
      "execution_count": null,
      "outputs": [
        {
          "output_type": "execute_result",
          "data": {
            "text/plain": [
              "<matplotlib.collections.PathCollection at 0x7dc411ef11e0>"
            ]
          },
          "metadata": {},
          "execution_count": 18
        },
        {
          "output_type": "display_data",
          "data": {
            "text/plain": [
              "<Figure size 640x480 with 1 Axes>"
            ],
            "image/png": "[encoded data removed]"
          },
          "metadata": {}
        }
      ]
    },
    {
      "cell_type": "code",
      "source": [
        "from sklearn.linear_model import LinearRegression"
      ],
      "metadata": {
        "id": "pupwITZjNnXs"
      },
      "execution_count": null,
      "outputs": []
    },
    {
      "cell_type": "code",
      "source": [
        "lr = LinearRegression()"
      ],
      "metadata": {
        "id": "pd9qd3eINyY8"
      },
      "execution_count": null,
      "outputs": []
    },
    {
      "cell_type": "code",
      "source": [
        "lr.fit(X,y)\n",
        "print(lr.coef_)\n",
        "print(lr.intercept_)"
      ],
      "metadata": {
        "colab": {
          "base_uri": "https://localhost:8080/"
        },
        "id": "IciMoCoEN5X5",
        "outputId": "a011bb8d-96f2-4765-ce77-e530a2b62a5a"
      },
      "execution_count": null,
      "outputs": [
        {
          "output_type": "stream",
          "name": "stdout",
          "text": [
            "[59.86525581]\n",
            "0.7044342721118149\n"
          ]
        }
      ]
    },
    {
      "cell_type": "code",
      "source": [
        "m = 92.34"
      ],
      "metadata": {
        "id": "Wyw9eBqlODKb"
      },
      "execution_count": null,
      "outputs": []
    },
    {
      "cell_type": "code",
      "source": [
        "class GDRegressor:\n",
        "  def __init__(self, learning_rate, epochs):\n",
        "    self.m = 92.34\n",
        "    self.b = 100\n",
        "    self.lr = learning_rate\n",
        "    self.epochs = epochs\n",
        "\n",
        "  def fit(self,X,y):\n",
        "    for i in range(self.epochs):\n",
        "      loss_slope = -2*np.sum(y-self.m*X.ravel() - self.b)\n",
        "      self.b = self.b - (self.lr * loss_slope)\n",
        "      # print(loss_slope,self.b)\n",
        "    print(self.b)\n"
      ],
      "metadata": {
        "id": "kkaKXzvMONc-"
      },
      "execution_count": null,
      "outputs": []
    },
    {
      "cell_type": "code",
      "source": [
        "# gd = GDRegressor(0.01,10)\n",
        "gd = GDRegressor(0.001, 100)"
      ],
      "metadata": {
        "id": "02pyVMIpPWEk"
      },
      "execution_count": null,
      "outputs": []
    },
    {
      "cell_type": "code",
      "source": [
        "gd.fit(X,y)"
      ],
      "metadata": {
        "colab": {
          "base_uri": "https://localhost:8080/"
        },
        "id": "Xuk8rGSsPaIW",
        "outputId": "69d8a8bc-382f-41d6-f50d-0526a9d0b3f5"
      },
      "execution_count": null,
      "outputs": [
        {
          "output_type": "stream",
          "name": "stdout",
          "text": [
            "0.9738649045790682\n"
          ]
        }
      ]
    },
    {
      "cell_type": "code",
      "source": [
        "# multiple variables"
      ],
      "metadata": {
        "id": "TWs85lVSPbeQ"
      },
      "execution_count": null,
      "outputs": []
    },
    {
      "cell_type": "code",
      "source": [
        "X,y = make_regression(n_samples = 100, n_features=1,n_informative=1,n_targets=1, noise=20, random_state=13)"
      ],
      "metadata": {
        "id": "ZFbvNXo5T-NP"
      },
      "execution_count": null,
      "outputs": []
    },
    {
      "cell_type": "code",
      "source": [
        "plt.scatter(X,y)"
      ],
      "metadata": {
        "colab": {
          "base_uri": "https://localhost:8080/",
          "height": 447
        },
        "id": "r_w3460RUAeH",
        "outputId": "7c67cdca-aeac-496b-b748-05b73219d162"
      },
      "execution_count": null,
      "outputs": [
        {
          "output_type": "execute_result",
          "data": {
            "text/plain": [
              "<matplotlib.collections.PathCollection at 0x7dc411e8f250>"
            ]
          },
          "metadata": {},
          "execution_count": 34
        },
        {
          "output_type": "display_data",
          "data": {
            "text/plain": [
              "<Figure size 640x480 with 1 Axes>"
            ],
            "image/png": "[encoded data removed]"
          },
          "metadata": {}
        }
      ]
    },
    {
      "cell_type": "code",
      "source": [
        "from sklearn.linear_model import LinearRegression"
      ],
      "metadata": {
        "id": "b2sVQpN6UEL-"
      },
      "execution_count": null,
      "outputs": []
    },
    {
      "cell_type": "code",
      "source": [
        "lr = LinearRegression()"
      ],
      "metadata": {
        "id": "KpubrHJZUI3z"
      },
      "execution_count": null,
      "outputs": []
    },
    {
      "cell_type": "code",
      "source": [
        "lr.fit(X,y)\n",
        "print(lr.coef_)\n",
        "print(lr.intercept_)"
      ],
      "metadata": {
        "colab": {
          "base_uri": "https://localhost:8080/"
        },
        "id": "xLywhq0pUMCZ",
        "outputId": "c47d759f-0edb-46f7-a0f3-7bc77b835fe2"
      },
      "execution_count": null,
      "outputs": [
        {
          "output_type": "stream",
          "name": "stdout",
          "text": [
            "[27.82809103]\n",
            "-2.29474455867698\n"
          ]
        }
      ]
    },
    {
      "cell_type": "code",
      "source": [
        "np.mean(cross_val_score(lr,X,y,scoring='r2',cv=10))"
      ],
      "metadata": {
        "colab": {
          "base_uri": "https://localhost:8080/"
        },
        "id": "3WgtL5Y3Ugzk",
        "outputId": "cb9c4229-3c07-466c-c3ca-e09a83c4fde3"
      },
      "execution_count": null,
      "outputs": [
        {
          "output_type": "execute_result",
          "data": {
            "text/plain": [
              "0.6375011587464419"
            ]
          },
          "metadata": {},
          "execution_count": 40
        }
      ]
    },
    {
      "cell_type": "code",
      "source": [
        "class GDRegressor:\n",
        "  def __init__(self, learning_rate, epochs):\n",
        "    self.m = 100 #i putany random value\n",
        "    self.b = 120 #i put any random value\n",
        "    self.lr = learning_rate\n",
        "    self.epochs = epochs\n",
        "\n",
        "  def fit(self,X,y):\n",
        "    for i in range(self.epochs):\n",
        "      loss_slope_b = -2*np.sum(y-self.m*X.ravel() - self.b)\n",
        "      loss_slope_m = -2*np.sum((y-self.m*X.ravel() - self.b)*X.ravel())\n",
        "      self.b = self.b - (self.lr * loss_slope_b)\n",
        "      self.m = self.m - (self.lr * loss_slope_m)\n",
        "      # print(loss_slope,self.b)\n",
        "    print(self.m,self.b)\n",
        "\n",
        "  def predict(self,X):\n",
        "    return self.m * X + self.b"
      ],
      "metadata": {
        "id": "zIDoj956UNyy"
      },
      "execution_count": null,
      "outputs": []
    },
    {
      "cell_type": "code",
      "source": [
        "# gd = GDRegressor(0.001,100)\n",
        "gd = GDRegressor(0.001,100)"
      ],
      "metadata": {
        "id": "QdS-pUhDVOND"
      },
      "execution_count": null,
      "outputs": []
    },
    {
      "cell_type": "code",
      "source": [
        "gd.fit(X,y)"
      ],
      "metadata": {
        "colab": {
          "base_uri": "https://localhost:8080/"
        },
        "id": "na--xpJ7VTJA",
        "outputId": "53f8e494-dfd9-451b-ffc9-ef525d1baab3"
      },
      "execution_count": null,
      "outputs": [
        {
          "output_type": "stream",
          "name": "stdout",
          "text": [
            "27.828091215963035 -2.2947446123877526\n"
          ]
        }
      ]
    },
    {
      "cell_type": "code",
      "source": [
        "gd.predict(X)"
      ],
      "metadata": {
        "colab": {
          "base_uri": "https://localhost:8080/"
        },
        "collapsed": true,
        "id": "hc0pV--6VWfG",
        "outputId": "47dc42ad-d99d-4105-e12f-d2e50a4e5460"
      },
      "execution_count": null,
      "outputs": [
        {
          "output_type": "execute_result",
          "data": {
            "text/plain": [
              "array([[-22.11921694],\n",
              "       [-14.45967379],\n",
              "       [-14.92180727],\n",
              "       [ 24.22071255],\n",
              "       [  4.32438501],\n",
              "       [ 21.67112406],\n",
              "       [ -9.06604975],\n",
              "       [  2.85194817],\n",
              "       [-22.35878929],\n",
              "       [-14.25795982],\n",
              "       [ 53.78500433],\n",
              "       [  8.75972325],\n",
              "       [  3.48793423],\n",
              "       [ -8.76271298],\n",
              "       [-23.68416746],\n",
              "       [ 10.31579461],\n",
              "       [ 15.51200496],\n",
              "       [  7.7103529 ],\n",
              "       [-47.24011634],\n",
              "       [ 46.38331548],\n",
              "       [-24.25080317],\n",
              "       [-16.54175595],\n",
              "       [-28.12854196],\n",
              "       [ 57.54630875],\n",
              "       [ -8.06489093],\n",
              "       [-47.90758557],\n",
              "       [-11.71784427],\n",
              "       [-11.25883112],\n",
              "       [-15.69039228],\n",
              "       [-16.85340611],\n",
              "       [ 17.79616486],\n",
              "       [ 19.01909793],\n",
              "       [ 10.32476714],\n",
              "       [-37.40282994],\n",
              "       [-63.15798794],\n",
              "       [-35.28268736],\n",
              "       [  3.75652   ],\n",
              "       [ 34.72543609],\n",
              "       [-32.54893309],\n",
              "       [ 13.35192543],\n",
              "       [-44.39433648],\n",
              "       [ -2.36122663],\n",
              "       [-10.03469731],\n",
              "       [ 10.27833036],\n",
              "       [ 30.84031032],\n",
              "       [ 23.37233248],\n",
              "       [ 20.38502292],\n",
              "       [-19.57542441],\n",
              "       [ 23.13291507],\n",
              "       [ 29.38289127],\n",
              "       [ 38.85425697],\n",
              "       [-20.4124037 ],\n",
              "       [-12.75587958],\n",
              "       [-23.85205468],\n",
              "       [ 11.65094974],\n",
              "       [ 35.27840742],\n",
              "       [ 17.99653862],\n",
              "       [ -4.56695157],\n",
              "       [-26.06391263],\n",
              "       [ 10.66362791],\n",
              "       [ -3.53318034],\n",
              "       [ -3.89576115],\n",
              "       [ 50.3766585 ],\n",
              "       [-31.38559476],\n",
              "       [ 13.41850642],\n",
              "       [-55.84042928],\n",
              "       [-23.55635161],\n",
              "       [  1.24786268],\n",
              "       [ -3.03974853],\n",
              "       [ -6.33569882],\n",
              "       [ 13.36820707],\n",
              "       [  6.53652581],\n",
              "       [ 17.49032683],\n",
              "       [ 18.68113493],\n",
              "       [-12.59436859],\n",
              "       [ 35.13686843],\n",
              "       [ 12.5192027 ],\n",
              "       [-29.68206062],\n",
              "       [ 35.28169381],\n",
              "       [-11.94014991],\n",
              "       [ 12.01804568],\n",
              "       [  0.52340022],\n",
              "       [-20.59219511],\n",
              "       [ 20.82777382],\n",
              "       [-11.12365099],\n",
              "       [-29.57390776],\n",
              "       [ 36.64338978],\n",
              "       [ 12.95277609],\n",
              "       [-17.05274408],\n",
              "       [ 11.36528152],\n",
              "       [  7.41031873],\n",
              "       [ 54.8556181 ],\n",
              "       [ 14.57711143],\n",
              "       [-12.99346814],\n",
              "       [-56.43125395],\n",
              "       [-11.05664388],\n",
              "       [ 49.17644259],\n",
              "       [-33.47631204],\n",
              "       [-11.55247643],\n",
              "       [-23.37322207]])"
            ]
          },
          "metadata": {},
          "execution_count": 54
        }
      ]
    },
    {
      "cell_type": "code",
      "source": [
        "# np.mean(cross_val_score(gd,X,y,scoring='r2',cv=10))"
      ],
      "metadata": {
        "id": "XG3p6dSNVt13"
      },
      "execution_count": 1,
      "outputs": []
    },
    {
      "cell_type": "code",
      "source": [
        "# to solve this error, you have to import sklearn module and do tain test split."
      ],
      "metadata": {
        "id": "LyzMz0KIWOTQ"
      },
      "execution_count": null,
      "outputs": []
    },
    {
      "cell_type": "code",
      "source": [],
      "metadata": {
        "id": "lwo29spKWf4t"
      },
      "execution_count": null,
      "outputs": []
    },
    {
      "cell_type": "code",
      "source": [
        "from sklearn.linear_model import LinearRegression\n",
        "from sklearn.model_selection import train_test_split\n",
        "X_train, X_test, y_train, y_test = train_test_split(X,y,test_size=0.2,random_state=2)"
      ],
      "metadata": {
        "id": "yyrgzTaxWsPY"
      },
      "execution_count": null,
      "outputs": []
    },
    {
      "cell_type": "code",
      "source": [
        "lr = LinearRegression()"
      ],
      "metadata": {
        "id": "nG93bJFBWsPZ"
      },
      "execution_count": null,
      "outputs": []
    },
    {
      "cell_type": "code",
      "source": [
        "lr.fit(X_train,y_train)\n",
        "print(lr.coef_)\n",
        "print(lr.intercept_)"
      ],
      "metadata": {
        "colab": {
          "base_uri": "https://localhost:8080/"
        },
        "outputId": "b530bf91-65e2-4eac-9e9c-cb059760b302",
        "id": "nxi43CQyWsPZ"
      },
      "execution_count": null,
      "outputs": [
        {
          "output_type": "stream",
          "name": "stdout",
          "text": [
            "[28.12597332]\n",
            "-2.2710144261783825\n"
          ]
        }
      ]
    },
    {
      "cell_type": "code",
      "source": [
        "y_pred = lr.predict(X_test)\n",
        "from sklearn.metrics import r2_score\n",
        "r2_score(y_test, y_pred)"
      ],
      "metadata": {
        "colab": {
          "base_uri": "https://localhost:8080/"
        },
        "id": "0iqhnrEzXR4D",
        "outputId": "ff57457d-788b-49e5-88f5-b6c494fea4a4"
      },
      "execution_count": null,
      "outputs": [
        {
          "output_type": "execute_result",
          "data": {
            "text/plain": [
              "0.6345158782661012"
            ]
          },
          "metadata": {},
          "execution_count": 75
        }
      ]
    },
    {
      "cell_type": "code",
      "source": [
        "# np.mean(cross_val_score(lr,X_train,y_train,scoring='r2',cv=10)) #"
      ],
      "metadata": {
        "id": "-3m3fXlgWsPa"
      },
      "execution_count": null,
      "outputs": []
    },
    {
      "cell_type": "code",
      "source": [
        "class GDRegressor:\n",
        "  def __init__(self, learning_rate, epochs):\n",
        "    self.m = 100 #any random value\n",
        "    self.b = 120 #any random value\n",
        "    self.lr = learning_rate\n",
        "    self.epochs = epochs\n",
        "\n",
        "  def fit(self,X,y):\n",
        "    for i in range(self.epochs):\n",
        "      loss_slope_b = -2*np.sum(y-self.m*X.ravel() - self.b)\n",
        "      loss_slope_m = -2*np.sum((y-self.m*X.ravel() - self.b)*X.ravel())\n",
        "      self.b = self.b - (self.lr * loss_slope_b)\n",
        "      self.m = self.m - (self.lr * loss_slope_m)\n",
        "      # print(loss_slope,self.b)\n",
        "    print(self.m,self.b)\n",
        "\n",
        "  def predict(self,X):\n",
        "    return self.m * X + self.b"
      ],
      "metadata": {
        "id": "UR9SoNQ_WsPa"
      },
      "execution_count": null,
      "outputs": []
    },
    {
      "cell_type": "code",
      "source": [
        "# gd = GDRegressor(0.001,100)\n",
        "gd = GDRegressor(0.001,100)"
      ],
      "metadata": {
        "id": "Lfw438WBWsPb"
      },
      "execution_count": null,
      "outputs": []
    },
    {
      "cell_type": "code",
      "source": [
        "gd.fit(X_train,y_train)"
      ],
      "metadata": {
        "colab": {
          "base_uri": "https://localhost:8080/"
        },
        "outputId": "66b4c709-5ede-4025-bd60-c5af9939852d",
        "id": "sxBNnWrcWsPb"
      },
      "execution_count": null,
      "outputs": [
        {
          "output_type": "stream",
          "name": "stdout",
          "text": [
            "28.12597412192845 -2.271012459583283\n"
          ]
        }
      ]
    },
    {
      "cell_type": "code",
      "source": [
        "y_pred = gd.predict(X_test)\n",
        "from sklearn.metrics import r2_score\n",
        "r2_score(y_test, y_pred)"
      ],
      "metadata": {
        "colab": {
          "base_uri": "https://localhost:8080/"
        },
        "id": "_dRGVTwbYMiL",
        "outputId": "e6202ef3-1bcb-4584-f675-dc33fbc3087e"
      },
      "execution_count": null,
      "outputs": [
        {
          "output_type": "execute_result",
          "data": {
            "text/plain": [
              "0.6345158732447627"
            ]
          },
          "metadata": {},
          "execution_count": 80
        }
      ]
    },
    {
      "cell_type": "code",
      "source": [
        "# np.mean(cross_val_score(gd,X_test,y_test,scoring='r2',cv=10)) #"
      ],
      "metadata": {
        "id": "VkPunNRTWsPb"
      },
      "execution_count": null,
      "outputs": []
    },
    {
      "cell_type": "code",
      "source": [
        "# to solve this error, you have to import sklearn module and do tain test split."
      ],
      "metadata": {
        "id": "bFP7xZgZWsPb"
      },
      "execution_count": null,
      "outputs": []
    },
    {
      "cell_type": "code",
      "source": [],
      "metadata": {
        "id": "2YddbsltWsPc"
      },
      "execution_count": null,
      "outputs": []
    }
  ]
}